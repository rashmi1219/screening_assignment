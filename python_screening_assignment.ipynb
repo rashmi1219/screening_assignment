{
 "cells": [
  {
   "cell_type": "markdown",
   "id": "4ded6e0a",
   "metadata": {},
   "source": [
    "1. Create a function in python to read the text file and replace specific content \n",
    "of the file."
   ]
  },
  {
   "cell_type": "code",
   "execution_count": 1,
   "id": "8d1fd778",
   "metadata": {},
   "outputs": [],
   "source": [
    "import os"
   ]
  },
  {
   "cell_type": "code",
   "execution_count": 3,
   "id": "9063cf1a",
   "metadata": {},
   "outputs": [],
   "source": [
    "file = open(\"example.txt\", 'w')"
   ]
  },
  {
   "cell_type": "code",
   "execution_count": 4,
   "id": "5849a0c9",
   "metadata": {},
   "outputs": [
    {
     "data": {
      "text/plain": [
       "30"
      ]
     },
     "execution_count": 4,
     "metadata": {},
     "output_type": "execute_result"
    }
   ],
   "source": [
    "file.write(\"This is a placement assignment\")"
   ]
  },
  {
   "cell_type": "code",
   "execution_count": 5,
   "id": "a698f976",
   "metadata": {},
   "outputs": [],
   "source": [
    "file.close()"
   ]
  },
  {
   "cell_type": "code",
   "execution_count": 7,
   "id": "8abc4f12",
   "metadata": {},
   "outputs": [],
   "source": [
    "f = open('example.txt', 'r+')"
   ]
  },
  {
   "cell_type": "code",
   "execution_count": 8,
   "id": "4e6f5e5c",
   "metadata": {},
   "outputs": [],
   "source": [
    "s = f.read()"
   ]
  },
  {
   "cell_type": "code",
   "execution_count": 9,
   "id": "9abe7e3e",
   "metadata": {},
   "outputs": [
    {
     "data": {
      "text/plain": [
       "'This is a placement assignment'"
      ]
     },
     "execution_count": 9,
     "metadata": {},
     "output_type": "execute_result"
    }
   ],
   "source": [
    "s"
   ]
  },
  {
   "cell_type": "code",
   "execution_count": 10,
   "id": "3b0918a2",
   "metadata": {},
   "outputs": [],
   "source": [
    "s = s.replace(\"placement\", \"screening\")"
   ]
  },
  {
   "cell_type": "code",
   "execution_count": 11,
   "id": "b7f800b9",
   "metadata": {},
   "outputs": [
    {
     "data": {
      "text/plain": [
       "'This is a screening assignment'"
      ]
     },
     "execution_count": 11,
     "metadata": {},
     "output_type": "execute_result"
    }
   ],
   "source": [
    "s"
   ]
  },
  {
   "cell_type": "code",
   "execution_count": 12,
   "id": "9f43ef7d",
   "metadata": {},
   "outputs": [
    {
     "data": {
      "text/plain": [
       "30"
      ]
     },
     "execution_count": 12,
     "metadata": {},
     "output_type": "execute_result"
    }
   ],
   "source": [
    "f.tell()"
   ]
  },
  {
   "cell_type": "code",
   "execution_count": 13,
   "id": "997cf5b7",
   "metadata": {},
   "outputs": [
    {
     "data": {
      "text/plain": [
       "0"
      ]
     },
     "execution_count": 13,
     "metadata": {},
     "output_type": "execute_result"
    }
   ],
   "source": [
    "f.seek(0)"
   ]
  },
  {
   "cell_type": "code",
   "execution_count": 14,
   "id": "cb68eb6f",
   "metadata": {},
   "outputs": [
    {
     "data": {
      "text/plain": [
       "30"
      ]
     },
     "execution_count": 14,
     "metadata": {},
     "output_type": "execute_result"
    }
   ],
   "source": [
    "f.write(s)"
   ]
  },
  {
   "cell_type": "code",
   "execution_count": 16,
   "id": "06fb7efb",
   "metadata": {},
   "outputs": [
    {
     "data": {
      "text/plain": [
       "0"
      ]
     },
     "execution_count": 16,
     "metadata": {},
     "output_type": "execute_result"
    }
   ],
   "source": [
    "f.seek(0)"
   ]
  },
  {
   "cell_type": "code",
   "execution_count": 17,
   "id": "a9432404",
   "metadata": {},
   "outputs": [
    {
     "data": {
      "text/plain": [
       "'This is a screening assignment'"
      ]
     },
     "execution_count": 17,
     "metadata": {},
     "output_type": "execute_result"
    }
   ],
   "source": [
    "f.read()"
   ]
  },
  {
   "cell_type": "code",
   "execution_count": null,
   "id": "e99d0737",
   "metadata": {},
   "outputs": [],
   "source": [
    "f.close()"
   ]
  },
  {
   "cell_type": "markdown",
   "id": "dafefcf6",
   "metadata": {},
   "source": [
    "2. Demonstrate use of abstract class, multiple inheritance and decorator in python using examples."
   ]
  },
  {
   "cell_type": "markdown",
   "id": "645ae87c",
   "metadata": {},
   "source": [
    "Abstract Class:- a class is called abstract class if contains one or more abstract methods, abstract method is a method that is declared but contains no implementation.the abstract methods are implemented by its subclass.\n",
    "\n"
   ]
  },
  {
   "cell_type": "code",
   "execution_count": 18,
   "id": "ea5b7445",
   "metadata": {},
   "outputs": [],
   "source": [
    "import abc"
   ]
  },
  {
   "cell_type": "code",
   "execution_count": 26,
   "id": "7d3b5f2b",
   "metadata": {},
   "outputs": [],
   "source": [
    "class Shape(metaclass=abc.ABCMeta):\n",
    "    def area():\n",
    "        pass\n",
    "class rectangle(Shape):\n",
    "    def __init__(self, x, y):\n",
    "        self.l = x\n",
    "        self.b = y\n",
    "        return self.l * self.b\n",
    "\n"
   ]
  },
  {
   "cell_type": "code",
   "execution_count": 27,
   "id": "8d45db66",
   "metadata": {},
   "outputs": [],
   "source": [
    "r = rectangle(2, 5)"
   ]
  },
  {
   "cell_type": "code",
   "execution_count": 28,
   "id": "2172a9cc",
   "metadata": {},
   "outputs": [
    {
     "data": {
      "text/plain": [
       "10"
      ]
     },
     "execution_count": 28,
     "metadata": {},
     "output_type": "execute_result"
    }
   ],
   "source": [
    "r.area()"
   ]
  },
  {
   "cell_type": "markdown",
   "id": "bf1f589e",
   "metadata": {},
   "source": [
    "multiple inheritance: when a class is inherited from more than one base class it is called multiple inheritance.\n"
   ]
  },
  {
   "cell_type": "code",
   "execution_count": 4,
   "id": "2f416423",
   "metadata": {},
   "outputs": [],
   "source": [
    "class A():\n",
    "    def test(self):\n",
    "        return \"this is class A\"\n",
    "        \n",
    "    \n",
    "class B():\n",
    "    def test(self):\n",
    "        return \"this is class B\"\n",
    "  \n",
    "class C(A, B):\n",
    "    pass\n",
    "    \n",
    "    \n",
    "    \n",
    "    "
   ]
  },
  {
   "cell_type": "code",
   "execution_count": 5,
   "id": "e751d8ad",
   "metadata": {},
   "outputs": [],
   "source": [
    "c = C()"
   ]
  },
  {
   "cell_type": "code",
   "execution_count": 6,
   "id": "87bfb833",
   "metadata": {},
   "outputs": [
    {
     "data": {
      "text/plain": [
       "'this is class A'"
      ]
     },
     "execution_count": 6,
     "metadata": {},
     "output_type": "execute_result"
    }
   ],
   "source": [
    "c.test()"
   ]
  },
  {
   "cell_type": "code",
   "execution_count": null,
   "id": "52de2c4b",
   "metadata": {},
   "outputs": [],
   "source": []
  }
 ],
 "metadata": {
  "kernelspec": {
   "display_name": "Python 3 (ipykernel)",
   "language": "python",
   "name": "python3"
  },
  "language_info": {
   "codemirror_mode": {
    "name": "ipython",
    "version": 3
   },
   "file_extension": ".py",
   "mimetype": "text/x-python",
   "name": "python",
   "nbconvert_exporter": "python",
   "pygments_lexer": "ipython3",
   "version": "3.8.11"
  }
 },
 "nbformat": 4,
 "nbformat_minor": 5
}
